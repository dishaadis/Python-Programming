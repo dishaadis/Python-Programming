{
 "cells": [
  {
   "cell_type": "markdown",
   "id": "58287fcd-d29c-4028-9603-45302156f7ce",
   "metadata": {},
   "source": [
    "Kelompok E Astor 2\n",
    "\n",
    "Asisten Tutor : Mas Wahyu\n",
    "1. Indah Nurcahyani\n",
    "2. Hafidz Alawy\n",
    "3. Radisha Fanni Sianti"
   ]
  },
  {
   "cell_type": "markdown",
   "id": "f033b25c-eeb6-4637-afb1-59edca9ed285",
   "metadata": {},
   "source": [
    "## Soal No. 1-7\n",
    "Dapat diakses pada link berikut :\n",
    "https://colab.research.google.com/drive/1KwOZHvHIqKTgBpk5d3l5vpkRbODMwtJZ?usp=sharing"
   ]
  },
  {
   "cell_type": "markdown",
   "id": "fa1da204-647a-4001-a98a-688f1d72572f",
   "metadata": {},
   "source": [
    "## Soal No.8\n",
    "Buatlah suatu module bebas, dengan suatu manfaat tertentu (Belum ada pada materi Function). Komponen yang wajib ada :1\n",
    "*   Function\n",
    "*   Docstring\n",
    "*   Memanfaatkan conditional statement / iterasi (at least menggunakan salah satunya) \n",
    "*   Terdapat kondisi handling exception error"
   ]
  },
  {
   "cell_type": "code",
   "execution_count": 9,
   "id": "54db7587-c9be-44f7-96e9-9b49da37764b",
   "metadata": {},
   "outputs": [],
   "source": [
    "def hitungHuruf(string, metode = \"jumlah_abjad\") :\n",
    "  '''\n",
    "  Fungsi hitungHuruf merupakan fungsi yang dapat mengembalikan jumlah huruf yang terdapat pada suatu kalimat atau string.\n",
    "  Fungsi ini memiliki 2 parameter yaitu string dan metode yang digunakan.\n",
    "  pilihan metode antara lain :\n",
    "  1. jumlah_abjad\n",
    "  2. jumlah_vokal\n",
    "  3. jumlah_konsonan\n",
    "  Argumen yang digunakan sebagai berikut :\n",
    "  1. string = string\n",
    "  2. metode = secara default akan menggunakan metode jumlah_abjad\n",
    "  '''\n",
    "  vokal = [\"a\",\"i\",\"u\",\"e\",\"o\"]\n",
    "  konsonan = [\"b\",\"c\",\"d\",\"f\",\"g\",\"h\",\"j\",\"k\",\"l\",\"m\",\"n\",\"p\",\"q\",\"r\",\"s\",\"t\",\"v\",\"w\",\"x\",\"y\",\"z\"]\n",
    "  abjad = [\"a\",\"b\",\"c\",\"d\",\"e\",\"f\",\"g\",\"h\",\"i\",\"j\",\"k\",\"l\",\"m\",\"n\",\"o\",\"p\",\"q\",\"r\",\"s\",\"t\",\"u\",\"v\",\"w\",\"x\",\"y\",\"z\"]\n",
    "  while True :\n",
    "    try :\n",
    "      if metode == \"jumlah_vokal\" :\n",
    "        result = []\n",
    "        for i in string :\n",
    "          if i in vokal :\n",
    "            result.append(i)\n",
    "          jumlah_vokal = len(result)\n",
    "        return jumlah_vokal\n",
    "      elif metode == \"jumlah_konsonan\" :\n",
    "        result = []\n",
    "        for i in string :\n",
    "          if i in konsonan :\n",
    "            result.append(i)\n",
    "          jumlah_konsonan = len(result)\n",
    "        return jumlah_konsonan\n",
    "      elif metode == \"jumlah_abjad\" :\n",
    "        result = []\n",
    "        for i in string :\n",
    "          if i in abjad :\n",
    "            result.append(i)\n",
    "          jumlah_abjad = len(result)\n",
    "        return jumlah_abjad\n",
    "        return result\n",
    "    except Exception as e :\n",
    "      print(e)\n",
    "      break"
   ]
  },
  {
   "cell_type": "code",
   "execution_count": 10,
   "id": "f9f64cbe-e6a2-4042-804b-60d9ef4458f4",
   "metadata": {},
   "outputs": [
    {
     "name": "stdout",
     "output_type": "stream",
     "text": [
      "Jumlah total huruf adalah 11\n",
      "Jumlah total huruf vokal adalah 6\n",
      "Jumlah total huruf konsonan adalah 5\n",
      "'int' object is not iterable\n",
      "Output apabila argumen yang diinput tidak sesuai None\n"
     ]
    }
   ],
   "source": [
    "print(\"Jumlah total huruf adalah\",hitungHuruf(\"apa aja boleh\", metode = \"jumlah_abjad\"))\n",
    "print(\"Jumlah total huruf vokal adalah\",hitungHuruf(\"apa aja boleh\", metode = \"jumlah_vokal\"))\n",
    "print(\"Jumlah total huruf konsonan adalah\",hitungHuruf(\"apa aja boleh\", metode = \"jumlah_konsonan\"))\n",
    "print(\"Output apabila argumen yang diinput tidak sesuai\",hitungHuruf(546738, metode = \"jumlah_abjad\"))"
   ]
  }
 ],
 "metadata": {
  "kernelspec": {
   "display_name": "Python 3 (ipykernel)",
   "language": "python",
   "name": "python3"
  },
  "language_info": {
   "codemirror_mode": {
    "name": "ipython",
    "version": 3
   },
   "file_extension": ".py",
   "mimetype": "text/x-python",
   "name": "python",
   "nbconvert_exporter": "python",
   "pygments_lexer": "ipython3",
   "version": "3.9.7"
  }
 },
 "nbformat": 4,
 "nbformat_minor": 5
}
